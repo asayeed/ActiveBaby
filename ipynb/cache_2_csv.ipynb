{
 "cells": [
  {
   "cell_type": "code",
   "execution_count": 26,
   "id": "3022bd57-7bf4-45ac-9f4e-ad6ef0d5bfa0",
   "metadata": {},
   "outputs": [
    {
     "name": "stdout",
     "output_type": "stream",
     "text": [
      "# conda environments:\n",
      "#\n",
      "base                     /root/miniconda3\n",
      "elc-bert              *  /root/miniconda3/envs/elc-bert\n",
      "groovist                 /root/miniconda3/envs/groovist\n",
      "\n",
      "\n",
      "Note: you may need to restart the kernel to use updated packages.\n"
     ]
    }
   ],
   "source": [
    "conda env list"
   ]
  },
  {
   "cell_type": "code",
   "execution_count": 40,
   "id": "c2f27ad2-4b1a-4d04-8696-2d73feb1dab1",
   "metadata": {},
   "outputs": [],
   "source": [
    "import os\n",
    "from collections import defaultdict\n",
    "import pandas as pd"
   ]
  },
  {
   "cell_type": "code",
   "execution_count": 41,
   "id": "1201af49-3075-48de-a26c-686d909003fd",
   "metadata": {},
   "outputs": [
    {
     "data": {
      "text/plain": [
       "146514"
      ]
     },
     "execution_count": 41,
     "metadata": {},
     "output_type": "execute_result"
    }
   ],
   "source": [
    "with open('data/processed24/cached_128.txt', 'r') as f:\n",
    "    all_lines = f.readlines()\n",
    "len(all_lines)"
   ]
  },
  {
   "cell_type": "code",
   "execution_count": 42,
   "id": "42068a02-2d96-42f1-b415-a0f42bc8fdd6",
   "metadata": {},
   "outputs": [
    {
     "data": {
      "text/plain": [
       "'Ġ\"* CHI : Ġno .\" [PAR] Ġ\"* MOT : Ġand Ġsit Ġdown .\" [PAR] Ġ\"* CHI : Ġthere Ġa Ġnapkin .\" [PAR] Ġ\"* MOT : Ġthey Ġare Ġnapkin s Ġyes .\" [PAR] Ġ\"* MOT : Ġturn Ġaround Ġand Ġfinish Ġyour Ġlunch .\" [PAR] Ġ\"* COL : ĠI Ġthink Ġyou \\'d Ġbetter Ġfinish Ġyour Ġlunch Ġand Ġthen Ġwe \\'ll Ġgo .\" [PAR] Ġ\"* CHI : Ġtake Ġa Ġnap .\" [PAR] Ġ\"* MOT : Ġright .\" [PAR] Ġ\"* CHI : ĠMom Ġwhere Ġmy Ġnew Ġblanket ?\" [PAR] Ġ\"* MOT : Ġyour Ġnew Ġclean Ġblanket \\'s Ġup Ġin Ġyour Ġbed .\" [PAR] Ġ\"* CHI : Ġin Ġbed Ġsleeping .\" [PAR] Ġ\"* MOT : Ġit \\'s Ġnot Ġsleeping .\" [PAR] Ġ\"* MOT : Ġit \\'s Ġjust Ġlaying Ġthere .\" [PAR]\\n'"
      ]
     },
     "execution_count": 42,
     "metadata": {},
     "output_type": "execute_result"
    }
   ],
   "source": [
    "all_lines[0]"
   ]
  },
  {
   "cell_type": "code",
   "execution_count": 43,
   "id": "171b5c2f-a1e2-45fa-b803-dbb997856667",
   "metadata": {},
   "outputs": [
    {
     "data": {
      "text/plain": [
       "(146514, 2)"
      ]
     },
     "execution_count": 43,
     "metadata": {},
     "output_type": "execute_result"
    }
   ],
   "source": [
    "data_dict = defaultdict(list)\n",
    "for idx, l in enumerate(all_lines):\n",
    "    data_dict['line_idx'].append(idx)\n",
    "    data_dict['line'].append(l)\n",
    "    data_dict['token'].append(l)\n",
    "df = pd.DataFrame(data=data_dict)\n",
    "df.shape"
   ]
  },
  {
   "cell_type": "code",
   "execution_count": 48,
   "id": "269bd22c-1347-40dc-8880-36753de3b8af",
   "metadata": {},
   "outputs": [],
   "source": [
    "df.to_csv('cached_128.csv', index=False)"
   ]
  },
  {
   "cell_type": "code",
   "execution_count": 49,
   "id": "4cb8f8a1-5bc9-4452-84a1-2638c6bb9524",
   "metadata": {},
   "outputs": [],
   "source": [
    "loaded_df = pd.read_csv('cached_128.csv')"
   ]
  },
  {
   "cell_type": "code",
   "execution_count": 50,
   "id": "c1ec60de-f4dc-4cf7-adaf-a70341883e2a",
   "metadata": {},
   "outputs": [
    {
     "data": {
      "text/plain": [
       "(146514, 2)"
      ]
     },
     "execution_count": 50,
     "metadata": {},
     "output_type": "execute_result"
    }
   ],
   "source": [
    "loaded_df.shape"
   ]
  },
  {
   "cell_type": "code",
   "execution_count": 51,
   "id": "1043dbdc-2f50-49ae-b17c-137bebdf9671",
   "metadata": {},
   "outputs": [
    {
     "data": {
      "text/plain": [
       "Index(['line_idx', 'line'], dtype='object')"
      ]
     },
     "execution_count": 51,
     "metadata": {},
     "output_type": "execute_result"
    }
   ],
   "source": [
    "loaded_df.keys()"
   ]
  },
  {
   "cell_type": "code",
   "execution_count": null,
   "id": "55cb9514-5c8f-46c2-8321-b0e18fe12385",
   "metadata": {},
   "outputs": [],
   "source": []
  }
 ],
 "metadata": {
  "kernelspec": {
   "display_name": "Python 3 (ipykernel)",
   "language": "python",
   "name": "python3"
  },
  "language_info": {
   "codemirror_mode": {
    "name": "ipython",
    "version": 3
   },
   "file_extension": ".py",
   "mimetype": "text/x-python",
   "name": "python",
   "nbconvert_exporter": "python",
   "pygments_lexer": "ipython3",
   "version": "3.11.9"
  }
 },
 "nbformat": 4,
 "nbformat_minor": 5
}
